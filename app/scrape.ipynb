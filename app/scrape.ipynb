{
 "cells": [
  {
   "cell_type": "code",
   "execution_count": 1,
   "metadata": {},
   "outputs": [
    {
     "name": "stderr",
     "output_type": "stream",
     "text": [
      "C:\\Users\\HP\\AppData\\Local\\Temp\\ipykernel_14340\\1222050232.py:3: DeprecationWarning: \n",
      "Pyarrow will become a required dependency of pandas in the next major release of pandas (pandas 3.0),\n",
      "(to allow more performant data types, such as the Arrow string type, and better interoperability with other libraries)\n",
      "but was not found to be installed on your system.\n",
      "If this would cause problems for you,\n",
      "please provide us feedback at https://github.com/pandas-dev/pandas/issues/54466\n",
      "        \n",
      "  import pandas as pd\n"
     ]
    }
   ],
   "source": [
    "import requests\n",
    "from bs4 import BeautifulSoup\n",
    "import pandas as pd"
   ]
  },
  {
   "cell_type": "code",
   "execution_count": 2,
   "metadata": {},
   "outputs": [],
   "source": [
    "def create_dataframe():\n",
    "    # Create an empty DataFrame with columns 'sub-url' and 'value'\n",
    "    df = pd.DataFrame(columns=['sub-url', 'value'])\n",
    "    return df\n",
    "\n",
    "def append_to_dataframe(df, sub_url, value):\n",
    "    temp = pd.DataFrame({'sub-url':[sub_url], 'value':[value]})\n",
    "    df = pd.concat([df, temp])\n",
    "    return df\n"
   ]
  },
  {
   "cell_type": "code",
   "execution_count": 3,
   "metadata": {},
   "outputs": [],
   "source": [
    "def scrape_and_append(main_url, df, class_name, value):\n",
    "    # Send a GET request to the main URL\n",
    "    response = requests.get(main_url)\n",
    "\n",
    "    # Check if the request was successful (status code 200)\n",
    "    if response.status_code == 200:\n",
    "        # Parse the HTML content of the page using BeautifulSoup\n",
    "        soup = BeautifulSoup(response.content, 'html.parser')\n",
    "\n",
    "        # Find all sub-urls in the class name (adjust 'class_name' accordingly)\n",
    "        class_name = 'your_class_name_here'\n",
    "        sub_urls = [a['href'] for a in soup.find_all('a', class_=class_name, href=True)]\n",
    "\n",
    "        # Append each sub-url to the DataFrame with the specified value\n",
    "        for sub_url in sub_urls:\n",
    "            df = append_to_dataframe(df, sub_url, value)\n",
    "\n",
    "    else:\n",
    "        print(f\"Failed to fetch content from {main_url}. Status code: {response.status_code}\")\n",
    "\n",
    "    return df"
   ]
  },
  {
   "cell_type": "code",
   "execution_count": 5,
   "metadata": {},
   "outputs": [],
   "source": [
    "# Create an empty DataFrame\n",
    "my_dataframe = create_dataframe()\n",
    "\n",
    "# Scrape sub-urls from the main_url and append to the DataFrame\n",
    "my_dataframe = scrape_and_append(\"https://www.news18.com/\", my_dataframe, \"jsx-8c13f00bbe4d445e\")"
   ]
  },
  {
   "cell_type": "code",
   "execution_count": 6,
   "metadata": {},
   "outputs": [
    {
     "name": "stdout",
     "output_type": "stream",
     "text": [
      "Empty DataFrame\n",
      "Columns: [sub-url, value]\n",
      "Index: []\n"
     ]
    }
   ],
   "source": [
    "print(my_dataframe)"
   ]
  },
  {
   "cell_type": "code",
   "execution_count": null,
   "metadata": {},
   "outputs": [],
   "source": []
  }
 ],
 "metadata": {
  "kernelspec": {
   "display_name": "myenv",
   "language": "python",
   "name": "python3"
  },
  "language_info": {
   "codemirror_mode": {
    "name": "ipython",
    "version": 3
   },
   "file_extension": ".py",
   "mimetype": "text/x-python",
   "name": "python",
   "nbconvert_exporter": "python",
   "pygments_lexer": "ipython3",
   "version": "3.11.5"
  }
 },
 "nbformat": 4,
 "nbformat_minor": 2
}
