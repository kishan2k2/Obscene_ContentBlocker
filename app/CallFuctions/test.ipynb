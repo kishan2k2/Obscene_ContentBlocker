{
 "cells": [
  {
   "cell_type": "code",
   "execution_count": null,
   "metadata": {},
   "outputs": [],
   "source": [
    "from config import SafeBrowsing_API_KEY\n",
    "api_key = SafeBrowsing_API_KEY"
   ]
  },
  {
   "cell_type": "code",
   "execution_count": null,
   "metadata": {},
   "outputs": [],
   "source": [
    "import requests\n",
    "import json\n",
    "\n",
    "def check_url_safe_browsing(api_key, url):\n",
    "    safe_browsing_url = f'https://safebrowsing.googleapis.com/v4/threatMatches:find?key={api_key}'\n",
    "\n",
    "    payload = {\n",
    "        'client': {\n",
    "            'clientId': 'your-application-name',\n",
    "            'clientVersion': '1.0.0',\n",
    "        },\n",
    "        'threatInfo': {\n",
    "            'threatTypes': ['MALWARE', 'SOCIAL_ENGINEERING', 'UNWANTED_SOFTWARE'],\n",
    "            'platformTypes': ['ANY_PLATFORM'],\n",
    "            'threatEntryTypes': ['URL'],\n",
    "            'threatEntries': [{'url': url}],\n",
    "        },\n",
    "    }\n",
    "\n",
    "    headers = {'Content-Type': 'application/json'}\n",
    "\n",
    "    response = requests.post(safe_browsing_url, data=json.dumps(payload), headers=headers)\n",
    "\n",
    "    if response.status_code == 200:\n",
    "        threat_matches = response.json().get('matches', [])\n",
    "        if threat_matches:\n",
    "            print(f\"The URL '{url}' is considered unsafe.\")\n",
    "            for match in threat_matches:\n",
    "                print(f\"Type: {match['threatType']}, Platform: {match['platformType']}\")\n",
    "        else:\n",
    "            print(f\"The URL '{url}' is safe.\")\n",
    "    else:\n",
    "        print(f\"Error checking URL: {response.status_code} - {response.text}\")\n",
    "\n",
    "# Example usage\n",
    "api_key = 'YOUR_API_KEY'\n",
    "url_to_check = 'https://example.com'\n",
    "\n",
    "check_url_safe_browsing(api_key, url_to_check)"
   ]
  }
 ],
 "metadata": {
  "language_info": {
   "name": "python"
  }
 },
 "nbformat": 4,
 "nbformat_minor": 2
}
