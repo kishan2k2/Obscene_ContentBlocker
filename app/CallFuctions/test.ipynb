{
 "cells": [
  {
   "cell_type": "code",
   "execution_count": 3,
   "metadata": {},
   "outputs": [],
   "source": [
    "from youtube_transcript_api import YouTubeTranscriptApi"
   ]
  },
  {
   "cell_type": "code",
   "execution_count": 21,
   "metadata": {},
   "outputs": [],
   "source": [
    "data = YouTubeTranscriptApi.get_transcript('F3c0AcfPwdg')"
   ]
  },
  {
   "cell_type": "code",
   "execution_count": 33,
   "metadata": {},
   "outputs": [],
   "source": [
    "text = \"\"\n",
    "for i in range(len(data)):\n",
    "    text += data[i]['text']"
   ]
  },
  {
   "cell_type": "code",
   "execution_count": 34,
   "metadata": {},
   "outputs": [
    {
     "data": {
      "text/plain": [
       "\"let's take a look at Simon Cowell andsee when his face started to change theanswer will shock you all estimatedcosts and a before and after will berevealed at the end so stay tuned in2001 at the age of 42 it looks likeSimon has a low juvenile hairline withstrong anterior temporal projection hehas low set flat brows and upper lidhooding which is relevant to his recentprocedures as you'll see later on healso has this lower lid tear troughhollowing and right heads as well whichare wrinkles at the under eye area Simonlooks to have thin lips and he has astrong chin in 2002 at the age of 43 itlooks like Simon has mild jowling aswell as mild neck fullness in 2003 atthe age of 44 Simon has The Descent ofhis lateral brows meaning that thelateral brow is lower than the medialbrow on the horizontal axis and this isdue to the lack of upward pull by thefrontalis mass muscle lateral to thetemporal Crest in 2004 at the age of 45I see no change in 2005 at the age of 46it looks like Simon has started toreceive Botox into his forehead andglabella which he has admitted to Simonadmits he overdid it with facial fillersand Botox injections in the past sayingthere was a stage where I might havegone a bitall right I saw a picture of me frombefore the other day and didn'trecognize it as me in 2006 at the age of47 I see no changes and that's the samethrough2008. in 2009 at the age of 50 it looksto me like Simon may have started cheekfiller around this time his cheeks justlook fuller and there's just thisexpansion of his face that I'm seeingwith likely the use of filler in 2010 atthe age of 51 I am seeing some agingrelated changes such as that the lateralcanthus is now lower than the medialcanthus of the eye and this is not thecase in youth because normally the tearshave to flow from lateral down to medialinto the nose so that's why the lateralcanthus is naturally in youth positionedat a higher level but as we age it tendsto drop down in 2011 at the age of 52 Isee no further change in 2012 of age 53there are some obvious signs ofcontinued Botox use with limited lateralfrontalis injection meaning that they'reinjecting the frontalis muscle but notall the way to the side of that muscleand that's why he still has thoselateral wrinkles that are pulling hislateral brow up quite High it looks tome like Simon may have either gainedweight around this time or the continueduse of filler has given him that largerFuller look to his face some people callit filler fatigue and keep in mind thatthere is a migration a filler thatoccurs over time as well as more of apermanence to h a filler than wepreviously thought there have been MRIstudies that have indicated this thatfiller including H.A filler tends tohang around much longer in our bodiesthan we had previously thought it maylose the aesthetic impact of how itlooked initially but it doesn't meanthat the filler is completely gone itcan take many many years before itstarts to really break down also itlooks like Simon has additional neckskin laxity and some extra adipositywhich is basically fat deposits in theneck in 2013 at the age of 54 I see nosigns of change same in 2014. in 2015 atthe age of 56 Simon has worsening browptosis which is a sag of the Brows thiscould just be age related it could alsobe because of the continued use of Botoxin the forehead muscle since that's theonly muscle that actually lifts the browso if you're paralyzing it over time itgets weaker also he has some uppereyelid dermatochalasis which is excessskin of the upper eyelid and he possiblyalso has some eyelid ptosis and to me itlooks like he may also have functionalvisual field loss given this extraweight that surrounds his eye it mightbe even affecting portions of his visionI think Simon has also continued to getcheek and under eye filler in 2016 atage 57 I see no change same in 2017 atage 58. in 2018 at the age of 59 itlooks like Simon is starting to losesome weight in 2019 no change and in2020 at the age of 61 I just wanted topoint out here that Simon is starting todevelop these platysmal bands in hisneck and this is due to some midlinedehiscence of the neck musclesspecifically the platysma which is themost superficial muscle of the neck in2021 at the age of 62 it looks likeSimon has continued to get cheek undereye and maybe even some lip filler andin May of 2021 there were really nosigns of upper face surgeries we'regoing to play this video now it's beenamazing actually I was saying earlier onhow much you appreciate something whenyou've been away from I mean I'm sureeveryone feels that way right now nowlet's let's fast forward to April of2022 Simon announced that he wasreversing his facial filler because hisson was actually scared to look at hisface he seems to have pivoted towards asurgical solution but one that was amajor change on top of the filler thathe was already dissolving it's commonpractice for people to offer anexplanation of their aesthetic changethat's only a fragment of the actualtruth we've seen that many times inSeptember of 2022 Simon was actually oncamera with Sophia Vergara for Wiredtake a look at this clip yeah I was uh areally really bad cute kid yeah yeah Inever went to school I was really reallynaughty yeah but look at you now it'sfine yeah nothing strange we actuallyhave a video on Sofia Vergara make sureto check it out it looks to me likearound this time he already had alateral brow lift upper blepharoplastymaybe a lower blepharoplasty as wellwith with acanthoplasty and his uppereyelid just appears more Hollow andthat's due to the combination of likelybrow lifting and an aggressive uppereyelid skin removal and on December 1stof 2022 this video surfaces of Simon Ialways say on this show two or threeminutes can change your lifeand it has and maybe this time it'sgoing to be youso please audition now for next year'sseason and I'm looking forward tomeeting some fans were quick to say thatSimon looked unrecognizable it's not thefirst time that we've seen these changesbut as his face has gotten thinner fromthe filler dissolving the combination ofthe eyelid and brow surgeries with thedissolving of the filler makes it a lotmore jarring to our eye keep in mindthat dissolving filler can thin outnatural tissues especially if high dosesof hyaline X are used hyaluronidase isnot only selective to exogenous h afiller that's in the filler syringes italso has the ability to affect ournatural tissues since we have hyaluronicacid in all of our cells we have a videoon lip filler dissolving where I showyou my technique of how I dilute thehyaline X before putting it into thelips for dissolving in Old filler I havea few thoughts on why Simon Cowell'srecent facial changes went viral menrarely get smaller surgical tweaks alongthe way so when they get a majoroverhaul it's a lot more obvious to usany changes around the eyes need to bedone with great care and calculationbecause they can really distort orchange and affect the way that our facelooks it's more than acceptable to do abrow lift first and then see if you evenneed to remove any upper eyelid skinsometimes that process can be done onthe same surgical day and sometimes youdo the brow lift let it heal and thensee where exactly the eyelets fall tothen potentially go back and remove someupper eyelid skin upper blepharoplastiescan generally be done under localanesthesia so it's not a difficultadd-on procedure after you've made surethat the Brows are exactly where youwant them subscribe and turn on allnotifications the total oil cost of allof these potential procedures for SimonCowell is two hundred and ten thousanddollars and here's what a before andafter looks like since you like thisvideo on Simon Cowell make sure to checkout our other video on SylvesterStallone\""
      ]
     },
     "execution_count": 34,
     "metadata": {},
     "output_type": "execute_result"
    }
   ],
   "source": [
    "text"
   ]
  },
  {
   "cell_type": "markdown",
   "metadata": {},
   "source": [
    "# Arcticle scraping test"
   ]
  },
  {
   "cell_type": "code",
   "execution_count": null,
   "metadata": {},
   "outputs": [],
   "source": [
    "from newspaper import Article, ArticleException"
   ]
  },
  {
   "cell_type": "code",
   "execution_count": null,
   "metadata": {},
   "outputs": [],
   "source": [
    "def scrape_article(url):\n",
    "    article = Article(url)\n",
    "\n",
    "    article.download()\n",
    "    try:\n",
    "        article.parse()\n",
    "    except ArticleException as e:\n",
    "        print(\"False\")\n",
    "        return False\n",
    "\n",
    "    # Access the article content\n",
    "    article_text = article.text\n",
    "    if len(article_text)==0:\n",
    "        print(\"False\")\n",
    "        return False\n",
    "    return article_text"
   ]
  }
 ],
 "metadata": {
  "kernelspec": {
   "display_name": "virtual",
   "language": "python",
   "name": "python3"
  },
  "language_info": {
   "codemirror_mode": {
    "name": "ipython",
    "version": 3
   },
   "file_extension": ".py",
   "mimetype": "text/x-python",
   "name": "python",
   "nbconvert_exporter": "python",
   "pygments_lexer": "ipython3",
   "version": "3.11.5"
  }
 },
 "nbformat": 4,
 "nbformat_minor": 2
}
